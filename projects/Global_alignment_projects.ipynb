{
 "cells": [
  {
   "cell_type": "markdown",
   "metadata": {},
   "source": [
    "High-Level Project Plan - Global Alignment"
   ]
  },
  {
   "cell_type": "markdown",
   "metadata": {},
   "source": [
    "1. Description:\n",
    "\n",
    "This project focuses on implementing sequence alignment algorithms for biological sequence comparison, specifically using the Needleman-Wunsch algorithm for global alignment. The alignment process ensures that entire sequences are compared, including penalties for gaps and mismatches, to find the best possible alignment across their full lengths.\n",
    "\n",
    "2. Key features of the project\n",
    "\n",
    "    Global Alignment: The Needleman-Wunsch algorithm is implemented to find the optimal alignment for two sequences from start to finish.\n",
    "    Substitution Matrix: The BLOSUM62 matrix is used to calculate biologically relevant substitution scores for amino acids.\n",
    "    Gap Penalties: Linear gap penalties are applied to account for insertions and deletions in the alignment.\n",
    "    Dynamic Programming: The algorithm employs a scoring matrix and traceback procedure to calculate alignment scores and reconstruct the optimal alignment.\n",
    "    Unit Testing: A comprehensive set of tests validates the implementation, covering edge cases, expected results, and performance on larger sequences.\n",
    "\n",
    "The project is designed to provide an accurate and efficient tool for global sequence alignment, making it a valuable resource for biological sequence analysis in genomics and proteomics."
   ]
  },
  {
   "cell_type": "markdown",
   "metadata": {},
   "source": [
    "Low-Level Project Plan - Global Alignment"
   ]
  },
  {
   "cell_type": "markdown",
   "metadata": {},
   "source": [
    "a) Problem Understanding:\n",
    "1. Goal Definition:\n",
    "\t- Perform global alignment of biological sequences using a substitution matrix (BLOSUM62) and configurable gap penalties.\n",
    "\t- The goal is to identify the best possible alignment of the entire sequences, ensuring that all characters are considered from start to finish.\n",
    "2. Substitution Matrix:\n",
    "\t- Use the BLOSUM62 matrix to assign scores for matching or mismatched pairs of amino acids. This matrix provides biologically relevant substitution scores.\n",
    "3. Gap Penalty:\n",
    "\t- Introduce a linear gap penalty for insertions or deletions, which is subtracted for each gap introduced during the alignment.\n",
    "\n",
    "b) Design:\n",
    "1. Substitution Function:\n",
    "\t- Develop a function to calculate substitution scores between two characters using the BLOSUM62 matrix.\n",
    "\t\tExample: subst(\"A\", \"G\") returns the substitution score for aligning \"A\" with \"G\".\n",
    "\t\n",
    "2. Dynamic Programming Algorithm:\n",
    "\t- Implement the Needleman-Wunsch algorithm for global alignment. Key components:\n",
    "    \ta) Initialization: Initialize the scoring matrix with gap penalties for the first row and column.\n",
    "    \tb) Matrix Filling: Populate the scoring matrix using dynamic programming rules, considering substitution scores and gap penalties.\n",
    "    \tc) Traceback: Implement a traceback procedure to retrieve the optimal alignment from the scoring matrix.\n",
    "\n",
    "3. Handling Edge Cases:\n",
    "\t- Account for scenarios such as empty sequences, identical sequences, or completely mismatched sequences.\n",
    "\n",
    "c) Implementation:\n",
    "1. Scoring Matrix Calculation:\n",
    "\t- Write a function to compute the scoring matrix based on the Needleman-Wunsch algorithm. This function will calculate scores for all possible alignments of the sequences.\n",
    "\t- This matrix will store scores for all possible alignments of subsequences.\n",
    "\n",
    "2. Traceback Function:\n",
    "\t- Implement a function to trace back through the scoring matrix to reconstruct the aligned sequences.\n",
    "\n",
    "3. Customizable Parameters:\n",
    "   - Allow users to configure gap penalties and optionally use different substitution matrices (e.g., PAM matrices).\n",
    "\n",
    "d) Validation:\n",
    "1. Unit Tests:\n",
    "    - Develop unit tests to ensure correctness. Include:\n",
    "        \ta) Basic Tests: Simple sequences (e.g., \"ACT\" vs \"ACT\") with known expected scores.\n",
    "        \tb) Edge Cases: Empty sequences, sequences with different lengths, completely mismatched sequences.\n",
    "        \tc) Known Results: Compare results against reference alignments from established tools like EMBOSS Needle.\n",
    "2. Performance Tests:\n",
    "    - Evaluate the algorithm on large sequences to assess runtime and memory usage.\n",
    "    - Debugging and Verification:\n",
    "    - Print the scoring matrix and alignment results for debugging during development."
   ]
  }
 ],
 "metadata": {
  "kernelspec": {
   "display_name": "Python 3",
   "language": "python",
   "name": "python3"
  },
  "language_info": {
   "name": "python",
   "version": "3.12.6"
  }
 },
 "nbformat": 4,
 "nbformat_minor": 2
}
